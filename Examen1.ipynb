{
  "nbformat": 4,
  "nbformat_minor": 0,
  "metadata": {
    "colab": {
      "provenance": [],
      "authorship_tag": "ABX9TyNSN3vY5QkJMsg63mL54f7x",
      "include_colab_link": true
    },
    "kernelspec": {
      "name": "python3",
      "display_name": "Python 3"
    },
    "language_info": {
      "name": "python"
    }
  },
  "cells": [
    {
      "cell_type": "markdown",
      "metadata": {
        "id": "view-in-github",
        "colab_type": "text"
      },
      "source": [
        "<a href=\"https://colab.research.google.com/github/Vixuz144/Simulacion-1/blob/main/Examen1.ipynb\" target=\"_parent\"><img src=\"https://colab.research.google.com/assets/colab-badge.svg\" alt=\"Open In Colab\"/></a>"
      ]
    },
    {
      "cell_type": "code",
      "execution_count": 31,
      "metadata": {
        "id": "tDz7rqpynfzT"
      },
      "outputs": [],
      "source": [
        "import numpy as np\n",
        "from random import random\n",
        "from numba import jit\n",
        "import matplotlib.pyplot as plt\n",
        "from scipy.stats import norm"
      ]
    },
    {
      "cell_type": "code",
      "source": [
        "@jit(nopython = True)\n",
        "def calculo_rc2(N, p = 1):\n",
        "  c = 0\n",
        "  c2 = []\n",
        "  for i in range(1, N+1):\n",
        "    x = random()\n",
        "    y = np.pi/4 * random()\n",
        "    if x <= np.cos(y):\n",
        "      c+=1\n",
        "\n",
        "    if i%p == 0:\n",
        "      c2.append(c/i)\n",
        "  c2 = np.array(c2) * np.pi/4\n",
        "  return np.pi/4 * c/N, c2"
      ],
      "metadata": {
        "id": "yp4Ly_Ud0-3a"
      },
      "execution_count": 32,
      "outputs": []
    },
    {
      "cell_type": "code",
      "source": [
        "drc2, iter2 = calculo_rc2(1000000, 10)\n",
        "rc2 = 1/drc2\n",
        "print(f\"El valor de 1/sqrt(2) = {drc2}\\nEl valor de sqrt(2) ={rc2}\\n\")\n"
      ],
      "metadata": {
        "colab": {
          "base_uri": "https://localhost:8080/"
        },
        "id": "DTPJ3GeG0-1T",
        "outputId": "48d4d618-4736-4023-aa2d-1e7ae9a8bce0"
      },
      "execution_count": 33,
      "outputs": [
        {
          "output_type": "stream",
          "name": "stdout",
          "text": [
            "El valor de 1/sqrt(2) = 0.7071882142863304\n",
            "El valor de sqrt(2) =1.414050714927659\n",
            "\n"
          ]
        }
      ]
    },
    {
      "cell_type": "code",
      "source": [
        "@jit(nopython = True)\n",
        "def MC_integ(n = 100000, rep = 1000):\n",
        "  l = []\n",
        "  for j in range(rep):\n",
        "    integ = []\n",
        "    for i in range(n):\n",
        "      r = 2 * random()\n",
        "      integ.append(np.sqrt(1+r**4)) #funcion\n",
        "    integ = np.array(integ)\n",
        "    l.append(integ.mean())\n",
        "  return l"
      ],
      "metadata": {
        "id": "QRTUr2Yjnqft"
      },
      "execution_count": 34,
      "outputs": []
    },
    {
      "cell_type": "code",
      "source": [
        "rep = 10000\n",
        "integ = MC_integ(rep = rep)\n",
        "med = 2*np.array(integ).mean()\n",
        "var = np.array(integ).std(ddof = 1)\n",
        "print(med)\n",
        "print(var)\n",
        "\n",
        "z = norm().ppf(0.975)\n",
        "print(z)\n",
        "print(med - z * var /np.sqrt(rep), med + z * var /np.sqrt(rep))"
      ],
      "metadata": {
        "colab": {
          "base_uri": "https://localhost:8080/"
        },
        "id": "K3ojKAfvnqsE",
        "outputId": "5b3f0eee-1333-40e2-fd9a-195dd9c72f5d"
      },
      "execution_count": 35,
      "outputs": [
        {
          "output_type": "stream",
          "name": "stdout",
          "text": [
            "3.653541130886407\n",
            "0.0029158174403918504\n",
            "1.959963984540054\n",
            "3.6534839819147207 3.6535982798580937\n"
          ]
        }
      ]
    },
    {
      "cell_type": "code",
      "source": [
        "@jit(nopython = True)\n",
        "def F(N = 10**6):\n",
        "  l = []\n",
        "  for i in range(N):\n",
        "    r =  random()\n",
        "    if 0 <= r < 1/3:\n",
        "      x = 3/2 * r\n",
        "    else:\n",
        "      x = 1/4 + np.sqrt(3/4*r  - 3/16)\n",
        "\n",
        "    l.append(np.sqrt(1 + np.sin(x)))\n",
        "  return np.array(l)"
      ],
      "metadata": {
        "id": "SWXQDJcKrL5c"
      },
      "execution_count": 38,
      "outputs": []
    },
    {
      "cell_type": "code",
      "source": [
        "l = F()\n",
        "print(l.mean())\n",
        "print(l.var())\n",
        "plt.hist(l, bins = 70, density = True, color = 'g', edgecolor = 'k')\n",
        "plt.show()\n"
      ],
      "metadata": {
        "colab": {
          "base_uri": "https://localhost:8080/",
          "height": 465
        },
        "id": "gFkqAjLisE5V",
        "outputId": "28fa6f39-4110-444c-bf31-349cb3a55094"
      },
      "execution_count": 39,
      "outputs": [
        {
          "output_type": "stream",
          "name": "stdout",
          "text": [
            "1.2415363892782496\n",
            "0.010390366904971344\n"
          ]
        },
        {
          "output_type": "display_data",
          "data": {
            "text/plain": [
              "<Figure size 640x480 with 1 Axes>"
            ],
            "image/png": "[encoded data removed]"
          },
          "metadata": {}
        }
      ]
    }
  ]
}