{
  "nbformat": 4,
  "nbformat_minor": 0,
  "metadata": {
    "colab": {
      "provenance": [],
      "authorship_tag": "ABX9TyPnxuXFKuodbAIKKHyk2QKV",
      "include_colab_link": true
    },
    "kernelspec": {
      "name": "python3",
      "display_name": "Python 3"
    },
    "language_info": {
      "name": "python"
    }
  },
  "cells": [
    {
      "cell_type": "markdown",
      "metadata": {
        "id": "view-in-github",
        "colab_type": "text"
      },
      "source": [
        "<a href=\"https://colab.research.google.com/github/Vixuz144/Simulacion-1/blob/main/Extra_S1.ipynb\" target=\"_parent\"><img src=\"https://colab.research.google.com/assets/colab-badge.svg\" alt=\"Open In Colab\"/></a>"
      ]
    },
    {
      "cell_type": "code",
      "execution_count": 1,
      "metadata": {
        "id": "LtZaWtUXFxA7"
      },
      "outputs": [],
      "source": [
        "import numpy as np\n",
        "from random import random\n",
        "from numba import jit\n",
        "import matplotlib.pyplot as plt"
      ]
    },
    {
      "cell_type": "code",
      "source": [
        "# @jit(nopython = True)\n",
        "def f1(nr = 10**3):\n",
        "  l1, l2 = [], []\n",
        "  for i in range(nr):\n",
        "    r =  random()\n",
        "    r_anti = 1-r\n",
        "    if 0 <= r < 1/3:\n",
        "      x = 3/2 * r\n",
        "    else:\n",
        "      x = 1/4 + np.sqrt(3/4*r  - 3/16)\n",
        "\n",
        "    if 0 <= r_anti < 1/3:\n",
        "      y = 3/2 * r_anti\n",
        "    else:\n",
        "      y = 1/4 + np.sqrt(3/4*r_anti  - 3/16)\n",
        "\n",
        "    f = np.sqrt(1 + np.sin(x))\n",
        "    g = np.sqrt(1 + np.sin(y))\n",
        "    l1.append(f)\n",
        "    l2.append((f+g)/2)\n",
        "  return np.array(l1), np.array(l2)"
      ],
      "metadata": {
        "id": "Fay55UsZGKjo"
      },
      "execution_count": 2,
      "outputs": []
    },
    {
      "cell_type": "code",
      "source": [
        "l1, l2 = f1(10**5)\n",
        "print(np.mean(l1), 'Con reducciòn de varianza:', np.mean(l2))\n",
        "v1, v2 = np.var(l1,ddof=1), np.var(l2,ddof=1)\n",
        "print(f'Reducciòn de varianza orcentual: {round(100*(v1-v2)/v1, 5)}%')\n",
        "plt.hist(l1, bins = 30, density = True, color = 'g', edgecolor = 'k')\n",
        "plt.show()\n",
        "plt.hist(l2, bins = 30, density = True, color = 'pink', edgecolor = 'k')\n",
        "plt.show()"
      ],
      "metadata": {
        "colab": {
          "base_uri": "https://localhost:8080/",
          "height": 878
        },
        "id": "ytlpVjEYG2sh",
        "outputId": "66004870-ffd1-4c8b-9012-79813137ebb5"
      },
      "execution_count": 3,
      "outputs": [
        {
          "output_type": "stream",
          "name": "stdout",
          "text": [
            "1.241263107359941 Con reducciòn de varianza: 1.2413520479751272\n",
            "Reducciòn de varianza orcentual: 91.07876%\n"
          ]
        },
        {
          "output_type": "display_data",
          "data": {
            "text/plain": [
              "<Figure size 640x480 with 1 Axes>"
            ],
            "image/png": "[encoded data removed]"
          },
          "metadata": {}
        },
        {
          "output_type": "display_data",
          "data": {
            "text/plain": [
              "<Figure size 640x480 with 1 Axes>"
            ],
            "image/png": "[encoded data removed]"
          },
          "metadata": {}
        }
      ]
    },
    {
      "cell_type": "code",
      "source": [
        "@jit(nopython = True)\n",
        "def f2(T, ll, ls, rep):\n",
        "  lip = []\n",
        "  lm = []\n",
        "  for k in range(rep):\n",
        "    t, i = 0, 0\n",
        "\n",
        "    tl = t - np.log(random())/ll\n",
        "    ts = np.inf\n",
        "    t = min(tl,ts)\n",
        "    mx = 0\n",
        "    suma = 0\n",
        "\n",
        "    while t < T:\n",
        "      mx = max(mx, i)\n",
        "      if t == tl: #Llegada\n",
        "        i += 1\n",
        "        tl = t - np.log(random())/ll\n",
        "        if i == 1: #si es el primer cliente\n",
        "          ts = t - np.log(random())/ls\n",
        "      else: #Salida\n",
        "        i -= 1\n",
        "        if i == 0: #Se vacia\n",
        "          ts = np.inf\n",
        "        else:\n",
        "          ts = t - np.log(random())/ls\n",
        "\n",
        "      ta = t\n",
        "      t = min(tl,ts)\n",
        "      suma += i * (t - ta)\n",
        "      # lista_tiempos.append(t)\n",
        "      # lista_individuos.append(i)\n",
        "    if T > t:\n",
        "      suma += i * (T - t)\n",
        "\n",
        "    lip.append(suma/T)\n",
        "    lm.append(mx)\n",
        "  return lip, lm"
      ],
      "metadata": {
        "id": "-CGk-3WhIF9Y"
      },
      "execution_count": 4,
      "outputs": []
    },
    {
      "cell_type": "code",
      "source": [
        "a, b = f2(60, 2, 2.2, 10**4)\n",
        "print(f'El valor esperado del valor medio del nùmero de usuarios en el intervalo [0, 60] es: {np.mean(a)}')\n",
        "print(f'El valor esperado del màximo de personas en el sistema en el mismo intervalo es: {np.mean(b)}')"
      ],
      "metadata": {
        "colab": {
          "base_uri": "https://localhost:8080/"
        },
        "id": "AMXodlsiI7Oh",
        "outputId": "40eaa37e-0c57-4398-9f1f-0c43e13f30a2"
      },
      "execution_count": 5,
      "outputs": [
        {
          "output_type": "stream",
          "name": "stdout",
          "text": [
            "El valor esperado del valor medio del nùmero de usuarios en el intervalo [0, 60] es: 5.4175404326495835\n",
            "El valor esperado del màximo de personas en el sistema en el mismo intervalo es: 14.6736\n"
          ]
        }
      ]
    },
    {
      "cell_type": "code",
      "source": [
        "@jit(nopython = True)\n",
        "def f3(nr = 10**6):\n",
        "  l, lx, lc = [], [], []\n",
        "  for i in range(nr):\n",
        "    r = random()\n",
        "    x = -np.log(r)/1\n",
        "    l.append(np.sqrt(x))\n",
        "    lx.append(x)\n",
        "  m = np.array(lx).mean()\n",
        "  c = -np.cov(l,lx)[0,1]/np.cov(l,lx)[1,1]\n",
        "  for i in range(nr):\n",
        "    lc.append(l[i] + c*(lx[i]-m))\n",
        "  return l, lc"
      ],
      "metadata": {
        "id": "cLjbXuVWIiUW"
      },
      "execution_count": 6,
      "outputs": []
    },
    {
      "cell_type": "code",
      "source": [
        "l, lc = f3()\n",
        "m, mc, v, vc = np.mean(l), np.mean(lc), np.var(l, ddof = 1), np.var(lc, ddof = 1)\n",
        "print(m, 'Con reducciòn de varianza:', mc)\n",
        "print('Reduccin de varianza aproximada (simulaciòn):',100 * (v-vc)/v)\n",
        "print('Reduccin de varianza exacta (talacha):',100*(np.pi/16)/(1 - np.pi / 4))"
      ],
      "metadata": {
        "colab": {
          "base_uri": "https://localhost:8080/"
        },
        "id": "MDijm_g_LGPX",
        "outputId": "ed4bf026-d8ae-404d-cc75-297fd892604d"
      },
      "execution_count": 7,
      "outputs": [
        {
          "output_type": "stream",
          "name": "stdout",
          "text": [
            "0.8868516422115319 Con reducciòn de varianza: 0.88685164221152\n",
            "Reduccin de varianza aproximada (simulaciòn): 91.50947792774889\n",
            "Reduccin de varianza exacta (talacha): 91.49480915813719\n"
          ]
        }
      ]
    },
    {
      "cell_type": "code",
      "source": [
        "print('Reduccin de varianza exacta (talacha):',100*np.pi/(16 - 4*np.pi))"
      ],
      "metadata": {
        "colab": {
          "base_uri": "https://localhost:8080/"
        },
        "id": "jvqA5GMPXT42",
        "outputId": "6aaef7f7-8db8-47e2-ac48-8ddea25d78f0"
      },
      "execution_count": 8,
      "outputs": [
        {
          "output_type": "stream",
          "name": "stdout",
          "text": [
            "Reduccin de varianza exacta (talacha): 91.49480915813719\n"
          ]
        }
      ]
    }
  ]
}