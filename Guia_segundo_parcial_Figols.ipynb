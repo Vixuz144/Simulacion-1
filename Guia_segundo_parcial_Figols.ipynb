{
  "nbformat": 4,
  "nbformat_minor": 0,
  "metadata": {
    "colab": {
      "provenance": [],
      "authorship_tag": "ABX9TyPHKCkD547fSupg5r4p1bUq",
      "include_colab_link": true
    },
    "kernelspec": {
      "name": "python3",
      "display_name": "Python 3"
    },
    "language_info": {
      "name": "python"
    }
  },
  "cells": [
    {
      "cell_type": "markdown",
      "metadata": {
        "id": "view-in-github",
        "colab_type": "text"
      },
      "source": [
        "<a href=\"https://colab.research.google.com/github/Vixuz144/Simulacion-1/blob/main/Guia_segundo_parcial_Figols.ipynb\" target=\"_parent\"><img src=\"https://colab.research.google.com/assets/colab-badge.svg\" alt=\"Open In Colab\"/></a>"
      ]
    },
    {
      "cell_type": "code",
      "source": [
        "import numpy as np\n",
        "from random import random\n",
        "from numba import jit\n",
        "import matplotlib.pyplot as plt"
      ],
      "metadata": {
        "id": "QtJfiVyIASmD"
      },
      "execution_count": 1,
      "outputs": []
    },
    {
      "cell_type": "markdown",
      "source": [
        "#1"
      ],
      "metadata": {
        "id": "6Q3HNmWL_sTi"
      }
    },
    {
      "cell_type": "code",
      "execution_count": 2,
      "metadata": {
        "id": "ev_YbXDx_QeT"
      },
      "outputs": [],
      "source": [
        "@jit(nopython = True)\n",
        "def le_1s(T, ll, ls, rep):\n",
        "  lt, li = [], []\n",
        "  lm, lp = [], []\n",
        "  for k in range(rep):\n",
        "    t, i = 0, 0\n",
        "    ltl, lts = [], []\n",
        "\n",
        "    # lista_tiempos = [t]\n",
        "    # lista_individuos = [i]\n",
        "\n",
        "    tl = t - np.log(random())/ll\n",
        "    ts = np.inf\n",
        "    t = min(tl,ts)\n",
        "    mx = 0\n",
        "\n",
        "    while t < T:\n",
        "      mx = max(mx, i)\n",
        "      if t == tl: #Llegada\n",
        "        i += 1\n",
        "        ltl.append(tl)\n",
        "        tl = t - np.log(random())/ll\n",
        "        if i == 1: #si es el primer cliente\n",
        "          ts = t - np.log(random())/ls\n",
        "      else: #Salida\n",
        "        i -= 1\n",
        "        lts.append(ts)\n",
        "        if i == 0: #Se vacia\n",
        "          ts = np.inf\n",
        "        else:\n",
        "          ts = t - np.log(random())/ls\n",
        "      t = min(tl,ts)\n",
        "      # lista_tiempos.append(t)\n",
        "      # lista_individuos.append(i)\n",
        "\n",
        "    n = len(lts)\n",
        "    if n < len(ltl):\n",
        "      ltl = ltl[:n]\n",
        "    tp = np.array(lts) - np.array(ltl)\n",
        "\n",
        "    li.append(i)\n",
        "    lt.append(t)\n",
        "    lm.append(mx)\n",
        "    lp.append(tp.mean())\n",
        "  return lt, li, lm, lp"
      ]
    },
    {
      "cell_type": "code",
      "source": [
        "ll = 2\n",
        "ls = 2.1\n",
        "T = 60\n",
        "nr = 10**5\n",
        "lt, li, lm, lp = le_1s(T, ll, ls, nr)\n",
        "\n",
        "print('El valor esperado del número medio de usuarios dentro del sistema es:',np.mean(li))\n",
        "print('El valor esperado del máximo número de personas dentro del sistema es:',np.mean(lm))\n",
        "print('El valor esperado del del tiempo promedio de permanencia de los usuario dentro del sistema es:',np.mean(lp))"
      ],
      "metadata": {
        "colab": {
          "base_uri": "https://localhost:8080/"
        },
        "id": "I6RTwMcP_7LU",
        "outputId": "abbea062-fb0e-4614-f6a9-474afb3f1958"
      },
      "execution_count": 3,
      "outputs": [
        {
          "output_type": "stream",
          "name": "stdout",
          "text": [
            "El valor esperado del número medio de usuarios dentro del sistema es: 9.35164\n",
            "El valor esperado del máximo número de personas dentro del sistema es: 16.37689\n",
            "El valor esperado del del tiempo promedio de permanencia de los usuario dentro del sistema es: 3.1924471775523764\n"
          ]
        }
      ]
    },
    {
      "cell_type": "markdown",
      "source": [
        "#2"
      ],
      "metadata": {
        "id": "XBTwuE8GUgY0"
      }
    },
    {
      "cell_type": "code",
      "source": [
        "# @jit(nopython = True)\n",
        "def le_ns(T,ll,ls, N = 10**5):\n",
        "  li = []\n",
        "  lm = []\n",
        "  lp = []\n",
        "  for i in range(N):\n",
        "    n = len(list(ls))\n",
        "    t = 0\n",
        "    i = 0\n",
        "\n",
        "    # l_t = [t]\n",
        "    # l_i = [i]\n",
        "    # l_k = [0]\n",
        "    # l_c = [0]\n",
        "\n",
        "    lll, sss = [], []\n",
        "\n",
        "    mx = 0\n",
        "\n",
        "    tl = 0\n",
        "    ts = list(np.inf * np.ones(n))\n",
        "\n",
        "    cola = 0\n",
        "\n",
        "    while min(tl, min(ts)) < T:\n",
        "      if t == tl: #llegada\n",
        "        i += 1\n",
        "        tl = t - np.log(random())/ll\n",
        "        lll.append(tl)\n",
        "\n",
        "        if np.any(np.isinf(ts)): #Hay servidores vacios\n",
        "          lk = []\n",
        "          for k in range(n):\n",
        "            if np.isinf(ts[k]):\n",
        "              lk.append(k)\n",
        "\n",
        "          m = len(lk)\n",
        "          l = np.linspace(0,1,m+1)\n",
        "          l[-1] += 0.1\n",
        "          r = random()\n",
        "\n",
        "          for j in range(m):\n",
        "            a, b = l[j], l[j+1]\n",
        "            if a <= r < b :\n",
        "              k = lk[j]\n",
        "              ts[k] = t - np.log(random())/ls[k]\n",
        "\n",
        "        else: #No hay servidores vacios\n",
        "          cola += 1\n",
        "\n",
        "      else: #salida\n",
        "        i -= 1\n",
        "        k = list(ts).index(min(ts))\n",
        "        sss.append(ts[k])\n",
        "\n",
        "        if i < n:\n",
        "          ts[k] = np.inf\n",
        "        elif cola >= 1 :\n",
        "          ts[k] = t - np.log(random())/ls[k]\n",
        "          cola -= 1\n",
        "\n",
        "      t = min(tl, min(ts))\n",
        "      mx = max(mx, i)\n",
        "      # l_t.append(t)\n",
        "      # l_i.append(i)\n",
        "      # l_k.append(k)\n",
        "      # l_c.append(cola)\n",
        "    n = len(sss)\n",
        "    if n < len(lll):\n",
        "      lll = lll[:n]\n",
        "    tp = np.array(sss) - np.array(lll)\n",
        "\n",
        "    li.append(i)\n",
        "    lm.append(mx)\n",
        "    lp.append(tp.mean())\n",
        "  return li, lm, lp\n",
        "  #   l_c = np.array(l_c[:-1])\n",
        "  #   lm.append(l_c.mean())\n",
        "  # lm = np.array(lm)\n",
        "  # return lm.mean()"
      ],
      "metadata": {
        "id": "Z_Z8pfuiUgBv"
      },
      "execution_count": 4,
      "outputs": []
    },
    {
      "cell_type": "code",
      "source": [
        "ll = 2\n",
        "ls = [0.7, 0.7, 0.7]\n",
        "T = 60\n",
        "nr = 10**4\n",
        "\n",
        "li, lm, lp = le_ns(T, ll, ls, nr)\n",
        "\n",
        "print('El valor esperado del número medio de usuarios dentro del sistema es:',np.mean(li))\n",
        "print('El valor esperado del máximo número de personas dentro del sistema es:',np.mean(lm))\n",
        "print('El valor esperado del del tiempo promedio de permanencia de los usuario dentro del sistema es:',np.mean(lp))"
      ],
      "metadata": {
        "colab": {
          "base_uri": "https://localhost:8080/"
        },
        "id": "DfAFFhBvWVhX",
        "outputId": "a3c2d1d4-5884-4645-abf9-bf5e3c2d740f"
      },
      "execution_count": 5,
      "outputs": [
        {
          "output_type": "stream",
          "name": "stdout",
          "text": [
            "El valor esperado del número medio de usuarios dentro del sistema es: 10.2717\n",
            "El valor esperado del máximo número de personas dentro del sistema es: 17.3754\n",
            "El valor esperado del del tiempo promedio de permanencia de los usuario dentro del sistema es: 3.161070190205058\n"
          ]
        }
      ]
    },
    {
      "cell_type": "markdown",
      "source": [
        "#3"
      ],
      "metadata": {
        "id": "q6hYXc4P7Huk"
      }
    },
    {
      "cell_type": "code",
      "source": [
        "def F(alpha):\n",
        "  return  -np.log(random())/alpha"
      ],
      "metadata": {
        "id": "QKERGfRb9AyV"
      },
      "execution_count": 6,
      "outputs": []
    },
    {
      "cell_type": "code",
      "source": [
        "from types import MemberDescriptorType\n",
        "def rep_maq(p_desc = 1/50, p_rep = 1/5, res = 3, nm = 5, rep = 10**4):\n",
        "  lt = []\n",
        "  ld = []\n",
        "  for i in range(rep):\n",
        "    t = 0\n",
        "    met = 0 # máquinas que necesitan reparación, máquinas en taller\n",
        "    disp = res # almacen de máquinas de repuesto disponibles para remplazar alguna que necesita reparación\n",
        "\n",
        "    d = 0\n",
        "\n",
        "    td = [] #Lista de máquinas que se pueden descomponer\n",
        "    for i in range(nm):\n",
        "      td.append(-np.log(random())/p_desc)\n",
        "    tdp = min(td) # tiempo más próximo en que se descompondrá una máquina\n",
        "    tsp = np.inf # Riempo de reparación de la máquina en taller\n",
        "\n",
        "    indicador = True # hay máquinas disponibles de remplazo\n",
        "    while indicador :\n",
        "      t=min(tdp,tsp)\n",
        "\n",
        "      if t == tdp: #EVENTO: se descompone una máquina\n",
        "        d += 1\n",
        "        if disp==0:# ya no hay máquinas disponibles para remplazo\n",
        "          indicador = False\n",
        "          k = td.index(tdp)\n",
        "        else: #hay máquinas disponibles para remplazo\n",
        "          disp -= 1\n",
        "          met += 1\n",
        "          k = td.index(tdp)\n",
        "          td[k] = t - np.log(random())/p_desc\n",
        "          if met == 1:\n",
        "            tsp = t - np.log(random())/p_rep\n",
        "          tdp = min(td)\n",
        "        # texto = 'Descomp'\n",
        "      else: #EVENTO: se repara una máquina descompuesta\n",
        "        met -= 1\n",
        "        disp += 1\n",
        "        if met == 0:\n",
        "          tsp = np.inf\n",
        "        else:\n",
        "          tsp = t - np.log(random())/p_rep\n",
        "        # texto = 'Fin Rep'\n",
        "      # print(texto, round(t,5), k, disp, MemberDescriptorType)\n",
        "    lt.append(t)\n",
        "    ld.append(d)\n",
        "  return lt, ld"
      ],
      "metadata": {
        "id": "ufV0xAWTZzQH"
      },
      "execution_count": 7,
      "outputs": []
    },
    {
      "cell_type": "code",
      "source": [
        "lt, ld = rep_maq(rep = 10**3)\n",
        "print(f\"Valor esperado del tiempo de la primera interrupción: {np.mean(lt)}\")\n",
        "print(f'Valor esperado del número de descomposturas antes de la primera interrupción: {np.mean(ld)}')"
      ],
      "metadata": {
        "colab": {
          "base_uri": "https://localhost:8080/"
        },
        "id": "NTYxD3C9eTLi",
        "outputId": "ec38bbe0-8dfc-4a87-8462-fd684752d076"
      },
      "execution_count": 8,
      "outputs": [
        {
          "output_type": "stream",
          "name": "stdout",
          "text": [
            "Valor esperado del tiempo de la primera interrupción: 259.10057909424467\n",
            "Valor esperado del número de descomposturas antes de la primera interrupción: 25.634\n"
          ]
        }
      ]
    },
    {
      "cell_type": "markdown",
      "source": [
        "#4"
      ],
      "metadata": {
        "id": "81hujkhW9BM7"
      }
    },
    {
      "cell_type": "code",
      "source": [
        "@jit(nopython = True)\n",
        "def inventario(nr = 10**4):\n",
        "  g = []\n",
        "  vacio = []\n",
        "  for i in range(nr):\n",
        "    # cap = cap0\n",
        "    cap = 100\n",
        "    ll = 5\n",
        "    T = 365\n",
        "\n",
        "    cant_compra = 1\n",
        "    precio = 2\n",
        "    costo_a = 0.05\n",
        "\n",
        "    tr = 15\n",
        "    periodicidad = 15\n",
        "\n",
        "    cap_min = 40\n",
        "    cap_max = 100\n",
        "\n",
        "    t = 0\n",
        "    v = 0\n",
        "    vp = 0\n",
        "    tp = 0\n",
        "\n",
        "    ganancia = 0\n",
        "    venta = 0\n",
        "    costo = 0\n",
        "    tv = -np.log(random())/ll\n",
        "\n",
        "    while t < T:\n",
        "      ta = t\n",
        "      t = min(tv,tr)\n",
        "      costo += (t-ta) * cap * costo_a\n",
        "      if t==tv:\n",
        "        if cap > 0:\n",
        "          v += cant_compra\n",
        "          cap -= cant_compra\n",
        "          venta += cant_compra * precio\n",
        "        else:\n",
        "          vp += cant_compra\n",
        "          tp = tp + (t - ta)\n",
        "        tv = tv - np.log(random())/ll\n",
        "      else: # t == tr\n",
        "        if cap < cap_min:\n",
        "          cap = cap_max\n",
        "        tr = tr + periodicidad\n",
        "    ganancia = venta - costo\n",
        "    g.append(ganancia)\n",
        "    vacio.append(tp)\n",
        "  return g, vacio"
      ],
      "metadata": {
        "id": "Ayms8yF67J9E"
      },
      "execution_count": 9,
      "outputs": []
    },
    {
      "cell_type": "code",
      "source": [
        "g, tva = inventario(10**5)\n",
        "print('Ganancia esperada:',np.mean(g))\n",
        "print(\"Tiempo promedio de almacen vacio:\",np.mean(tva))\n"
      ],
      "metadata": {
        "colab": {
          "base_uri": "https://localhost:8080/"
        },
        "id": "4YbU3hCHCh54",
        "outputId": "7c572042-f124-4f54-985a-9ba4f73a463b"
      },
      "execution_count": 10,
      "outputs": [
        {
          "output_type": "stream",
          "name": "stdout",
          "text": [
            "Ganancia esperada: 2478.649037824275\n",
            "Tiempo promedio de almacen vacio: 5.985855896205094\n"
          ]
        }
      ]
    }
  ]
}