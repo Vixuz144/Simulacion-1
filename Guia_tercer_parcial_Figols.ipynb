{
  "cells": [
    {
      "cell_type": "markdown",
      "metadata": {
        "id": "view-in-github",
        "colab_type": "text"
      },
      "source": [
        "<a href=\"https://colab.research.google.com/github/Vixuz144/Simulacion-1/blob/main/Guia_tercer_parcial_Figols.ipynb\" target=\"_parent\"><img src=\"https://colab.research.google.com/assets/colab-badge.svg\" alt=\"Open In Colab\"/></a>"
      ]
    },
    {
      "cell_type": "code",
      "execution_count": null,
      "metadata": {
        "id": "JYFOaNAWFLUh"
      },
      "outputs": [],
      "source": [
        "from random import random, gauss\n",
        "import numpy as np\n",
        "from numba import jit"
      ]
    },
    {
      "cell_type": "markdown",
      "metadata": {
        "id": "UtOJ2CV5Ftwt"
      },
      "source": [
        "#1.-\n",
        "\n",
        "El precio de una acción sigue un movimiento Browniano geométrico $P_t = p_0 e^{\\frac{\\mu - \\sigma^2}{2} t + \\sigma W_t}$ donde $W$, es un movimiento Browniano, con $\\mu = 0.002$ $\\sigma = 0.01$ y $P_0 = 10$. Sobre esta acción se define una opción europea con precio de ejercicio de 11 en un tiempo de 50.\n",
        "\n",
        "A) Estime por simulación, el valor esperado de la ganancia (por acción).\n",
        "\n",
        "B) Use la técnica de variables antitéticas para reducir la varianza. ¿En qué porcentaje se redujo?"
      ]
    },
    {
      "cell_type": "code",
      "execution_count": null,
      "metadata": {
        "id": "IQ-Ub-g2Fd9x"
      },
      "outputs": [],
      "source": []
    },
    {
      "cell_type": "markdown",
      "metadata": {
        "id": "Eihm5pRAFvfn"
      },
      "source": [
        "#2\n",
        "\n",
        "a) Estime por Simulacion el valor de la integral $∫_{0}^{2} e^{-x^2} dx$\n",
        "\n",
        "b) Use la técnica devariables antitéticas para reducir la varianza. ¿En que porcentaje se redujo la varianza?\n",
        "\n",
        "c) Use la técnica de variables de control con la variable $x^2$ como variable de control para reducir la varianza. ¿En que porcentaje se redujo la varianza?"
      ]
    },
    {
      "cell_type": "code",
      "execution_count": null,
      "metadata": {
        "id": "d4Hi8lgeFwzJ"
      },
      "outputs": [],
      "source": [
        "@jit(nopython = True)\n",
        "def f2_anti(nr = 10**6):\n",
        "  l, la = [], []\n",
        "  for i in range(nr):\n",
        "    x = 2*random()\n",
        "    f = 2*np.exp(-x**2)\n",
        "    g = 2*np.exp(-(2-x)**2)\n",
        "    l.append(f)\n",
        "    la.append((f+g)/2)\n",
        "  return l, la"
      ]
    },
    {
      "cell_type": "code",
      "execution_count": null,
      "metadata": {
        "colab": {
          "base_uri": "https://localhost:8080/"
        },
        "id": "2hG3JRzhHLxv",
        "outputId": "cd566f2c-c222-426a-e49a-fe678ed805a7"
      },
      "outputs": [
        {
          "name": "stdout",
          "output_type": "stream",
          "text": [
            "0.8829799279584771 0.8820531715030685\n",
            "97.79998028434916\n"
          ]
        }
      ],
      "source": [
        "l, la = f2_anti()\n",
        "\n",
        "m, ma, v, va = np.mean(l), np.mean(la), np.var(l, ddof = 1), np.var(la, ddof = 1)\n",
        "print(m, ma)\n",
        "print(100 * (v-va)/v)"
      ]
    },
    {
      "cell_type": "code",
      "execution_count": null,
      "metadata": {
        "id": "0IHjObDAJMZ3"
      },
      "outputs": [],
      "source": [
        "@jit(nopython = True)\n",
        "def f2_cont(nr = 10**6):\n",
        "  l, lx, lc = [], [], []\n",
        "  for i in range(nr):\n",
        "    x = 2*random()\n",
        "    l.append(2*np.exp(-x**2))\n",
        "    lx.append(x**2)\n",
        "  m = np.array(lx).mean()\n",
        "  c = -np.cov(l,lx)[0,1]/np.cov(l,lx)[1,1]\n",
        "  for i in range(nr):\n",
        "    lc.append(l[i] + c*(lx[i]-m))\n",
        "  return l, lc"
      ]
    },
    {
      "cell_type": "code",
      "execution_count": null,
      "metadata": {
        "colab": {
          "base_uri": "https://localhost:8080/"
        },
        "id": "pjTfivlPJoWG",
        "outputId": "737760e6-dc44-4dea-b9ca-12d6eb1b3c6d"
      },
      "outputs": [
        {
          "name": "stdout",
          "output_type": "stream",
          "text": [
            "0.8812415892010932 0.8812415892010809\n",
            "83.96955494088874\n"
          ]
        }
      ],
      "source": [
        "l, lc = f2_cont()\n",
        "m, mc, v, vc = np.mean(l), np.mean(lc), np.var(l, ddof = 1), np.var(lc, ddof = 1)\n",
        "print(m, mc)\n",
        "print(100 * (v-vc)/v)"
      ]
    },
    {
      "cell_type": "markdown",
      "metadata": {
        "id": "Q6P2DF3kMjSl"
      },
      "source": [
        "#3\n",
        "\n",
        "La variable aleatoris $X$ sigue una distribución exponencial con parámetro 3.\n",
        "\n",
        "A) Estime por simulación el valor esperado de $\\sqrt X$.\n",
        "\n",
        "B) Use la técnica de variables antitéticas para reducir la varianza, ¿En qué porcentaje se redujo ésta?\n",
        "\n",
        "C) Use a la variable $X$ como variable de control para reducir la varianza, ¿En qué porcentaje se redujo ésta? Verifiquelo analiticamente.\n",
        "\n",
        "D) Use la técnica de muestreo de importancia para reducir la varianza; use una función de densidad de una normal con media μ y desviación estándar σ. Determine estos parámetros para obtener la máxima reducción porcentual de la varianza. ¿En qué porcentaje se redujo ésta?"
      ]
    },
    {
      "cell_type": "code",
      "execution_count": null,
      "metadata": {
        "id": "8DeoNgxdMi4Q"
      },
      "outputs": [],
      "source": [
        "@jit(nopython = True)\n",
        "def f3_anti(nr = 10**6):\n",
        "  l, la = [], []\n",
        "  for i in range(nr):\n",
        "    r = random()\n",
        "    x = -np.log(r)/3\n",
        "    a = -np.log(1-r)/3\n",
        "    l.append(np.sqrt(x))\n",
        "    la.append((np.sqrt(x) + np.sqrt(a))/2)\n",
        "  return l, la"
      ]
    },
    {
      "cell_type": "code",
      "execution_count": null,
      "metadata": {
        "colab": {
          "base_uri": "https://localhost:8080/"
        },
        "id": "kSAzpOC0O1OZ",
        "outputId": "20553068-42d0-487e-e172-39932f3ecd87"
      },
      "outputs": [
        {
          "name": "stdout",
          "output_type": "stream",
          "text": [
            "0.5121989858873999 0.5116706646855057\n",
            "97.35324676998931\n"
          ]
        }
      ],
      "source": [
        "l, la = f3_anti()\n",
        "m, ma, v, va = np.mean(l), np.mean(la), np.var(l, ddof = 1), np.var(la, ddof = 1)\n",
        "print(m, ma)\n",
        "print(100 * (v-va)/v)"
      ]
    },
    {
      "cell_type": "code",
      "execution_count": null,
      "metadata": {
        "id": "Konh3fQoQ_Ml"
      },
      "outputs": [],
      "source": [
        "@jit(nopython = True)\n",
        "def f3_cont(nr = 10**6):\n",
        "  l, lx, lc = [], [], []\n",
        "  for i in range(nr):\n",
        "    r = random()\n",
        "    x = -np.log(r)/3\n",
        "    l.append(np.sqrt(x))\n",
        "    lx.append(x)\n",
        "  m = np.array(lx).mean()\n",
        "  c = -np.cov(l,lx)[0,1]/np.cov(l,lx)[1,1]\n",
        "  for i in range(nr):\n",
        "    lc.append(l[i] + c*(lx[i]-m))\n",
        "  return l, lc"
      ]
    },
    {
      "cell_type": "code",
      "execution_count": null,
      "metadata": {
        "colab": {
          "base_uri": "https://localhost:8080/"
        },
        "id": "nnkqAkCpQ-_m",
        "outputId": "e35517e4-359b-4c3e-925a-a8adb56b8a20"
      },
      "outputs": [
        {
          "name": "stdout",
          "output_type": "stream",
          "text": [
            "0.5118571413201244 0.5118571413201141\n",
            "91.50155583206205\n"
          ]
        }
      ],
      "source": [
        "l, lc = f3_cont()\n",
        "m, mc, v, vc = np.mean(l), np.mean(lc), np.var(l, ddof = 1), np.var(lc, ddof = 1)\n",
        "print(m, mc)\n",
        "print(100 * (v-vc)/v)"
      ]
    },
    {
      "cell_type": "markdown",
      "metadata": {
        "id": "RaDLSZhPvdHV"
      },
      "source": [
        "Nota, no se puede\n"
      ]
    },
    {
      "cell_type": "code",
      "execution_count": null,
      "metadata": {
        "id": "j2p06s4rsOgR"
      },
      "outputs": [],
      "source": [
        "@jit(nopython = True)\n",
        "def f3_impo(m, s, nr = 10**6):\n",
        "  l = []\n",
        "  for i in range(nr):\n",
        "    r = gauss(m,s)\n",
        "    if r >= 0:\n",
        "      x = np.sqrt(r)\n",
        "      f = 3*np.exp(-3*r)\n",
        "      h = np.exp(-(r-m)**2/(2*s**2))/(s*np.sqrt(2*np.pi))\n",
        "      l.append(x*f/h)\n",
        "    else:\n",
        "      l.append(0)\n",
        "\n",
        "\n",
        "\n",
        "  return l"
      ]
    },
    {
      "cell_type": "code",
      "execution_count": null,
      "metadata": {
        "colab": {
          "background_save": true
        },
        "id": "-ooos2RIsOcc"
      },
      "outputs": [],
      "source": [
        "for m in np.arange(10,50,2):\n",
        "  for s in np.arange(0.01,0.05, 0.01):\n",
        "    l = f3_impo(m,s, 10**6)\n",
        "    mi, vi = np.mean(l), np.var(l, ddof = 1)\n",
        "    redvar =  round(100 * (v-vi)/v,4)\n",
        "    if np.allclose(mc,mi, 10**-4) and 60 < redvar < 100:\n",
        "      print('mu', round(m,2), 'sigma', round(s,2), 'media', round(mi,5), 'redvar', redvar, '\\n')"
      ]
    },
    {
      "cell_type": "markdown",
      "metadata": {
        "id": "QiRy7Mlnb3Nd"
      },
      "source": [
        "#4\n",
        "\n",
        "El precio de una acción sigue un movimiento Browniano geométrico $P_t = P_0 e^{\\frac{\\mu - \\sigma^2}{2} t + \\sigma W_t}$, donde $W$, es un movimiento Browniano, con $\\mu = 0.002$, $\\sigma = 0.01$ y $P_0= 5$.\n",
        "\n",
        "A) Estime por simulación, el valor esperado del número de diss que tienen que transcurrir para que el precio de la acción sea superior a 10.4.\n",
        "\n",
        "B) Reduzca la varianza usando la técnica de variables antitéticas, ¿En qué porcentaje se redujo la varianza?\n",
        "\n",
        "C) Use variables de control para reducir la varianza, ¿En qué porcentaje se redujo la varianza?"
      ]
    },
    {
      "cell_type": "code",
      "execution_count": null,
      "metadata": {
        "id": "sQCH9oWTc4nQ"
      },
      "outputs": [],
      "source": [
        "@jit(nopython = True)\n",
        "def f4(m, s, p0, pa, nr = 10**6):\n",
        "  l = []\n",
        "  for i in range(nr):\n",
        "    t = 0\n",
        "    p = p0\n",
        "    while p <= pa:\n",
        "      p = p * np.exp(m + s * gauss(0,1))\n",
        "      t += 1\n",
        "    l.append(t)\n",
        "  return l"
      ]
    },
    {
      "cell_type": "code",
      "execution_count": null,
      "metadata": {
        "id": "aT8XJUhMkuqp"
      },
      "outputs": [],
      "source": [
        "@jit(nopython = True)\n",
        "def f4_anti(m, s, p0, pa, nr = 10**6):\n",
        "  l = []\n",
        "  for i in range(nr):\n",
        "    t1, t2 = 0, 0\n",
        "    p, q = p0, p0\n",
        "    while p <= pa or q <= pa:\n",
        "      g = gauss(0,1)\n",
        "      if p <= pa:\n",
        "        p = p * np.exp(m + s * g)\n",
        "        t1 += 1\n",
        "      elif q <= pa:\n",
        "        q = q * np.exp(m + s * (-g))\n",
        "        t2 += 1\n",
        "    l.append((t1+t2)/2)\n",
        "  return l"
      ]
    },
    {
      "cell_type": "code",
      "execution_count": null,
      "metadata": {
        "colab": {
          "base_uri": "https://localhost:8080/"
        },
        "id": "t9ZuPPo0b3t1",
        "outputId": "e47d4030-3550-4c86-c728-da2599a7cbda"
      },
      "outputs": [
        {
          "name": "stdout",
          "output_type": "stream",
          "text": [
            "369.2364\n",
            "0.9337718086848685\n",
            "369.31445\n",
            "0.4714730969294429\n",
            "49.50874586870754\n"
          ]
        }
      ],
      "source": [
        "nr = 10**4\n",
        "l1 = f4(0.002, 0.01, 5, 10.4, nr)\n",
        "print(np.mean(l1))\n",
        "v1 = np.var(l1, ddof = 1)\n",
        "print(v1/nr)\n",
        "\n",
        "l2 = f4_anti(0.002, 0.01, 5, 10.4, nr)\n",
        "print(np.mean(l2))\n",
        "v2 = np.var(l2, ddof = 1)\n",
        "print(v2/nr)\n",
        "\n",
        "print(100 * (v1-v2)/v1)"
      ]
    },
    {
      "cell_type": "code",
      "execution_count": null,
      "metadata": {
        "id": "Hzxk4KwXkunB"
      },
      "outputs": [],
      "source": [
        "nr = 10**6\n",
        "l = f4(0.002, 0.01, 5, 10.4, nr)\n",
        "print(np.mean(l))\n",
        "print(np.var(l, ddof = 1)/nr)"
      ]
    },
    {
      "cell_type": "code",
      "execution_count": null,
      "metadata": {
        "id": "Rm_1Zv09kuix"
      },
      "outputs": [],
      "source": []
    },
    {
      "cell_type": "code",
      "execution_count": null,
      "metadata": {
        "id": "CCn8ouHkkudS"
      },
      "outputs": [],
      "source": []
    },
    {
      "cell_type": "markdown",
      "metadata": {
        "id": "eN-FqH2UP2i9"
      },
      "source": [
        "#5\n",
        "\n",
        "La variable aleatoria X sigue una distribución normal estándar.\n",
        "\n",
        "A) Estime por simulación $P(X>3)$.\n",
        "\n",
        "B) Use la técnica de muestreo de importancia para reducir la varianza (use una normal y encuentre los mejores parámetros)"
      ]
    },
    {
      "cell_type": "code",
      "execution_count": null,
      "metadata": {
        "id": "51isP2FfQYdE"
      },
      "outputs": [],
      "source": [
        "@jit(nopython = True)\n",
        "def f5(nr= 10**6):\n",
        "  l = []\n",
        "  for i in range(nr):\n",
        "    r = gauss(0,1)\n",
        "    if r > 3:\n",
        "      l.append(1)\n",
        "    else:\n",
        "      l.append(0)\n",
        "  return l"
      ]
    },
    {
      "cell_type": "code",
      "execution_count": null,
      "metadata": {
        "colab": {
          "base_uri": "https://localhost:8080/"
        },
        "id": "a6yRP1MAvrY6",
        "outputId": "5551a854-cc4c-4954-8fed-27f36acb99a4"
      },
      "outputs": [
        {
          "name": "stdout",
          "output_type": "stream",
          "text": [
            "0.001331 0.0013292297682297683\n"
          ]
        }
      ],
      "source": [
        "l = f5()\n",
        "m = np.mean(l)\n",
        "v = np.var(l, ddof = 1)\n",
        "print(m, v)"
      ]
    },
    {
      "cell_type": "code",
      "execution_count": null,
      "metadata": {
        "id": "0i5TCnxrwE3c"
      },
      "outputs": [],
      "source": [
        "@jit(nopython = True)\n",
        "def f5_impo(m=0,s=1,nr= 10**6, p=3):\n",
        "  l, k = [], []\n",
        "  for i in range(nr):\n",
        "    r = gauss(0,1)\n",
        "    if r > p:\n",
        "      I = 1\n",
        "    else:\n",
        "      I = 0\n",
        "    l.append(I)\n",
        "    g = gauss(m,s)\n",
        "    f = np.exp(-g**2/2)/np.sqrt(2*np.pi)\n",
        "    h = np.exp(-(g-m)**2/(2*s**2))/(np.sqrt(2*np.pi)*s)\n",
        "    if g > p:\n",
        "      I = 1\n",
        "    else:\n",
        "      I = 0\n",
        "    k.append(I*f/h)\n",
        "  return l, k"
      ]
    },
    {
      "cell_type": "code",
      "execution_count": null,
      "metadata": {
        "colab": {
          "base_uri": "https://localhost:8080/"
        },
        "id": "wmblo1X0wE0f",
        "outputId": "b0c5a0a5-2aef-48a1-c232-9de0fd220775"
      },
      "outputs": [
        {
          "name": "stdout",
          "output_type": "stream",
          "text": [
            "3.0 1.0 99.53\n",
            "0.00137 0.001346293693779444\n",
            "0.0013681244681244683 6.1510748242830695e-06\n",
            "1.3681244681244683e-09 6.15107482428307e-12\n",
            "Reducciòn de varianza: 99.55\n"
          ]
        }
      ],
      "source": [
        "@jit(nopython = True)\n",
        "def nunu(r = 10**6):\n",
        "  may = 0\n",
        "  mm, ms = 1,1\n",
        "  for m in np.arange(1,5,0.5):\n",
        "    for s in np.arange(1,5,0.5):\n",
        "      l1, l2 = f5_impo(m,s,r)\n",
        "      l1, l2 = np.array(l1), np.array(l2)\n",
        "      m1 = l1.mean()\n",
        "      m2 = l2.mean()\n",
        "      v1 = l1.var()\n",
        "      v2 = l2.var()\n",
        "      if round(100*(v1-v2)/v1, 2) > may:\n",
        "        may = round(100*(v1-v2)/v1, 2)\n",
        "        mm, ms = m, s\n",
        "\n",
        "  return mm, ms, may\n",
        "\n",
        "r = 10**6\n",
        "a, b, c = nunu(r)\n",
        "print(a, b, c)\n",
        "l1, l2 = f5_impo(a,b,r)\n",
        "m1 = np.mean(l1)\n",
        "m2 = np.mean(l2)\n",
        "v1 = np.var(l1, ddof = 1)\n",
        "v2 = np.var(l2, ddof = 1)\n",
        "print(m1, m2)\n",
        "print(v1, v2)\n",
        "print(v1/r, v2/r)\n",
        "print('Reducciòn de varianza:',round(100*(v1-v2)/v1, 2))\n"
      ]
    },
    {
      "cell_type": "markdown",
      "metadata": {
        "id": "OdsgzsWOQY2l"
      },
      "source": [
        "#6\n",
        "\n",
        "$X$ sigue una distribución exponencial con parámetro 1. $Y$ sigue una distribución exponencial con parámetro 2 y $X$ y $Y$ son independientes.\n",
        "\n",
        "A)Estime per simulación $P(X + Y >5)$\n",
        "\n",
        "B) Use la técnica de condicionamiento para reducir la varianza, ¿En qué porcentaje se redujo la varianza?"
      ]
    },
    {
      "cell_type": "code",
      "execution_count": null,
      "metadata": {
        "id": "NyqXdye6w6Q0"
      },
      "outputs": [],
      "source": [
        "@jit(nopython = True)\n",
        "def f6(lam_x=1, lam_y=2, nr=10**6, p = 3):\n",
        "  l = []\n",
        "  for i in range(nr):\n",
        "    x, y = -np.log(random())/lam_x, -np.log(random())/lam_x\n",
        "    if x + y > p:\n",
        "      I = 1\n",
        "    else:\n",
        "      I = 0\n",
        "    l.append(I)\n",
        "  return l"
      ]
    },
    {
      "cell_type": "code",
      "execution_count": null,
      "metadata": {
        "colab": {
          "base_uri": "https://localhost:8080/"
        },
        "id": "ZZ9REZuiybkm",
        "outputId": "5d4fed1a-3483-405a-ca17-929441bcaef7"
      },
      "outputs": [
        {
          "name": "stdout",
          "output_type": "stream",
          "text": [
            "0.199011\n"
          ]
        }
      ],
      "source": [
        "p = f6()\n",
        "print(np.mean(p))"
      ]
    },
    {
      "cell_type": "code",
      "execution_count": null,
      "metadata": {
        "id": "Jj8wzVIqyv0p"
      },
      "outputs": [],
      "source": [
        "@jit(nopython = True)\n",
        "def f6_cond(lam_x=1, lam_y=2, nr=10**5, p=3):\n",
        "  l, l1 = [], []\n",
        "  for i in range(nr):\n",
        "    x, y = -np.log(random())/lam_x, -np.log(random())/lam_y\n",
        "    if x + y > p:\n",
        "      I = 1\n",
        "    else:\n",
        "      I = 0\n",
        "    l.append(I)\n",
        "    if y > p:\n",
        "      EIY = 1\n",
        "    else:\n",
        "      EIY = np.exp(y-p)\n",
        "    l1.append(EIY)\n",
        "  return l, l1"
      ]
    },
    {
      "cell_type": "code",
      "execution_count": null,
      "metadata": {
        "colab": {
          "base_uri": "https://localhost:8080/"
        },
        "id": "xYAXKebo1Fo7",
        "outputId": "45f83aca-d921-4cd1-fea5-0f1b8e1cb7cf"
      },
      "outputs": [
        {
          "name": "stdout",
          "output_type": "stream",
          "text": [
            "0.01343 0.01353576095548946\n",
            "0.01324976759767597 0.0003386317126278203\n",
            "97.44424413385774\n"
          ]
        }
      ],
      "source": [
        "l1, l2 = f6_cond(p=5)\n",
        "print(np.mean(l1), np.mean(l2))\n",
        "v1, v2 = np.var(l1, ddof=1), np.var(l2, ddof=1)\n",
        "print(v1, v2)\n",
        "print(100*(v1 - v2)/v1)"
      ]
    },
    {
      "cell_type": "markdown",
      "metadata": {
        "id": "Izh2qqXD8rp0"
      },
      "source": [
        "#7\n",
        "\n",
        "La variable aleatoria $X$ tiene la siguiente función de densidad de probabilidad\n",
        "\n",
        "$$f(x) = \\left\\{ \\begin{array} $\\frac{x}{2} & \\textrm{si } x \\in [0,2] \\\\ 0 & \\textrm{en otro caso} \\end{array} \\right.$$\n",
        "& $Y$ sigue una distribución exponencial con parámetro 1. $X$ & $Y$ son independientes.\n",
        "\n",
        "a) Estime por simulación $P(X+Y>2)$.\n",
        "\n",
        "b) Use la variable aleatoria $E[I|Y]$ para reducir la varianza por condicionamiento. ¿En que pocentaje se redujo la varianza?\n",
        "\n",
        "c) Use $X+Y$ como variable de control. ¿En qué porcentaje se redujo la varianza?\n",
        "\n"
      ]
    },
    {
      "cell_type": "code",
      "execution_count": null,
      "metadata": {
        "id": "gHHtR1EgAI2G"
      },
      "outputs": [],
      "source": [
        "@jit(nopython = True)\n",
        "def dens7(x):\n",
        "  if 0 <= x <= 2:\n",
        "    return np.sqrt(4*x)\n",
        "  else:\n",
        "    return 0"
      ]
    },
    {
      "cell_type": "code",
      "execution_count": null,
      "metadata": {
        "id": "sNKBQyvk86Jk"
      },
      "outputs": [],
      "source": [
        "@jit(nopython = True)\n",
        "def f7x(lam_y=1, nr=10**6, p = 2):\n",
        "  l, l1 = [], []\n",
        "  for i in range(nr):\n",
        "    x = dens7(random())\n",
        "    y = -np.log(random())/lam_y\n",
        "    if x + y > p:\n",
        "      I = 1\n",
        "    else:\n",
        "      I = 0\n",
        "    l.append(I)\n",
        "    if x > p:\n",
        "      EIY = 1\n",
        "    else:\n",
        "      EIY = np.exp(x-p)\n",
        "    l1.append(EIY)\n",
        "  return l, l1\n",
        "\n",
        "@jit(nopython = True)\n",
        "def f7y(lam_y=1, nr=10**6, p = 2):\n",
        "  l, l1 = [], []\n",
        "  for i in range(nr):\n",
        "    x = dens7(random())\n",
        "    y = -np.log(random())/lam_y\n",
        "    if x + y > p:\n",
        "      I = 1\n",
        "    else:\n",
        "      I = 0\n",
        "    l.append(I)\n",
        "    if 0 <= y <= p:\n",
        "      EIY = 1 - ((p-y)**2)/4\n",
        "    elif y > p:\n",
        "      EIY = 1\n",
        "    else:\n",
        "      EIY = 0\n",
        "    l1.append(EIY)\n",
        "  return l, l1"
      ]
    },
    {
      "cell_type": "code",
      "execution_count": null,
      "metadata": {
        "colab": {
          "base_uri": "https://localhost:8080/"
        },
        "id": "gaQxzMBBBmP3",
        "outputId": "3401eda9-257d-44dd-a072-4837703a6853"
      },
      "outputs": [
        {
          "name": "stdout",
          "output_type": "stream",
          "text": [
            "0.567379 0.5671954954392113\n",
            "0.24546031581931554 0.05505012989169554\n",
            "77.5726965444719\n",
            "\n",
            "0.567537 0.5675726963324951\n",
            "0.24543899906999908 0.11013635324943302\n",
            "55.1267917214647\n"
          ]
        }
      ],
      "source": [
        "l1, l2 = f7x(p = 2)\n",
        "print(np.mean(l1), np.mean(l2))\n",
        "v1, v2 = np.var(l1, ddof=1), np.var(l2, ddof=1)\n",
        "print(v1, v2)\n",
        "print(100*(v1 - v2)/v1)\n",
        "\n",
        "print()\n",
        "\n",
        "l1, l2 = f7y(p = 2)\n",
        "print(np.mean(l1), np.mean(l2))\n",
        "v1, v2 = np.var(l1, ddof=1), np.var(l2, ddof=1)\n",
        "print(v1, v2)\n",
        "print(100*(v1 - v2)/v1)"
      ]
    },
    {
      "cell_type": "code",
      "execution_count": null,
      "metadata": {
        "id": "IksZOl8wV9F1"
      },
      "outputs": [],
      "source": [
        "@jit(nopython = True)\n",
        "def f7_cont(lam_y=1, nr=10**6, p = 2):\n",
        "  l, l1, lc = [], [], []\n",
        "  for i in range(nr):\n",
        "    x = dens7(random())\n",
        "    y = -np.log(random())/lam_y\n",
        "    if x + y > p:\n",
        "      I = 1\n",
        "    else:\n",
        "      I = 0\n",
        "    l.append(I)\n",
        "    l1.append(x+y)\n",
        "  m = np.array(l1).mean()\n",
        "  c = -np.cov(l,l1)[0,1]/np.cov(l,l1)[1,1]\n",
        "  for i in range(nr):\n",
        "    lc.append(l[i] + c*(l1[i]-m))\n",
        "  return l, lc"
      ]
    },
    {
      "cell_type": "code",
      "execution_count": null,
      "metadata": {
        "colab": {
          "base_uri": "https://localhost:8080/"
        },
        "id": "TmWmaRR3WeZ9",
        "outputId": "2a9124d6-0868-4bd4-b7a0-8651935a4bcd"
      },
      "outputs": [
        {
          "name": "stdout",
          "output_type": "stream",
          "text": [
            "0.567447 0.5674469999999894\n",
            "0.24545114764214754 0.1280513717815444\n",
            "47.83020042414496\n"
          ]
        }
      ],
      "source": [
        "l1, l2 = f7_cont(p = 2)\n",
        "print(np.mean(l1), np.mean(l2))\n",
        "v1, v2 = np.var(l1, ddof=1), np.var(l2, ddof=1)\n",
        "print(v1, v2)\n",
        "print(100*(v1 - v2)/v1)"
      ]
    }
  ],
  "metadata": {
    "colab": {
      "provenance": [],
      "authorship_tag": "ABX9TyOzR4ZNIF0xBWPGX4/a8n6T",
      "include_colab_link": true
    },
    "kernelspec": {
      "display_name": "Python 3",
      "name": "python3"
    },
    "language_info": {
      "name": "python"
    }
  },
  "nbformat": 4,
  "nbformat_minor": 0
}