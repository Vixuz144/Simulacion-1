{
  "nbformat": 4,
  "nbformat_minor": 0,
  "metadata": {
    "colab": {
      "provenance": [],
      "authorship_tag": "ABX9TyM5UJ4mz6nlEqk46ftSrzq+",
      "include_colab_link": true
    },
    "kernelspec": {
      "name": "python3",
      "display_name": "Python 3"
    },
    "language_info": {
      "name": "python"
    }
  },
  "cells": [
    {
      "cell_type": "markdown",
      "metadata": {
        "id": "view-in-github",
        "colab_type": "text"
      },
      "source": [
        "<a href=\"https://colab.research.google.com/github/Vixuz144/Simulacion-1/blob/main/Red_VAR_condicionamiento.ipynb\" target=\"_parent\"><img src=\"https://colab.research.google.com/assets/colab-badge.svg\" alt=\"Open In Colab\"/></a>"
      ]
    },
    {
      "cell_type": "markdown",
      "source": [
        "Ejemplo: Sean $X$ y $Y$ exponencialmente distribuidas con parámetros 1 y 2, respectivamente, además, $X$ y $Y$ son independientes."
      ],
      "metadata": {
        "id": "yHNNfRQZwJH2"
      }
    },
    {
      "cell_type": "markdown",
      "source": [
        "#a) Estimar por simulación $P(X+Y > 2)$"
      ],
      "metadata": {
        "id": "M8QS8o1QwI3b"
      }
    },
    {
      "cell_type": "code",
      "execution_count": 13,
      "metadata": {
        "id": "vnUYrp5iwETq"
      },
      "outputs": [],
      "source": [
        "import numpy as np\n",
        "from random import random\n",
        "from numba import jit"
      ]
    },
    {
      "cell_type": "code",
      "source": [
        "\n",
        "@jit(nopython = True)\n",
        "def f(lam_x=1, lam_y=2, nr=10**6):\n",
        "  l = []\n",
        "  for i in range(nr):\n",
        "    x, y = -np.log(random())/lam_x, -np.log(random())/lam_x\n",
        "    if x + y > 2:\n",
        "      I = 1\n",
        "    else:\n",
        "      I = 0\n",
        "    l.append(I)\n",
        "  return l"
      ],
      "metadata": {
        "id": "NyqXdye6w6Q0"
      },
      "execution_count": 14,
      "outputs": []
    },
    {
      "cell_type": "code",
      "source": [
        "p = f()\n",
        "print(np.mean(p))"
      ],
      "metadata": {
        "colab": {
          "base_uri": "https://localhost:8080/"
        },
        "id": "ZZ9REZuiybkm",
        "outputId": "2b23569e-617c-4da0-d447-a2cbae6cf401"
      },
      "execution_count": 15,
      "outputs": [
        {
          "output_type": "stream",
          "name": "stdout",
          "text": [
            "0.40617\n"
          ]
        }
      ]
    },
    {
      "cell_type": "markdown",
      "source": [
        "#b) Usar la técnica de condicionamiento para reducir la varianza."
      ],
      "metadata": {
        "id": "uStsru-Pwp8H"
      }
    },
    {
      "cell_type": "code",
      "source": [
        "@jit(nopython = True)\n",
        "def g(lam_x=1, lam_y=2, nr=10**5):\n",
        "  l, l1 = [], []\n",
        "  for i in range(nr):\n",
        "    x, y = -np.log(random())/lam_x, -np.log(random())/lam_y\n",
        "    if x + y > 2:\n",
        "      I = 1\n",
        "    else:\n",
        "      I = 0\n",
        "    l.append(I)\n",
        "    if y > 2:\n",
        "      EIY = 1\n",
        "    else:\n",
        "      EIY = np.exp(y-2)\n",
        "    l1.append(EIY)\n",
        "  return l, l1"
      ],
      "metadata": {
        "id": "Jj8wzVIqyv0p"
      },
      "execution_count": 20,
      "outputs": []
    },
    {
      "cell_type": "code",
      "source": [
        "l1, l2 =g(nr = 10**7)\n",
        "print(np.mean(l1), np.mean(l2))\n",
        "v1, v2 = np.var(l1, ddof=1), np.var(l2, ddof=1)\n",
        "print(v1, v2)\n",
        "print(100*(v1 - v2)/v1)"
      ],
      "metadata": {
        "colab": {
          "base_uri": "https://localhost:8080/"
        },
        "id": "xYAXKebo1Fo7",
        "outputId": "5c84ba92-550b-4c80-cabd-016a36ead696"
      },
      "execution_count": 21,
      "outputs": [
        {
          "output_type": "stream",
          "name": "stdout",
          "text": [
            "0.252385 0.2524310917680108\n",
            "0.18868683064368533 0.027920824973788786\n",
            "85.20255765675866\n"
          ]
        }
      ]
    },
    {
      "cell_type": "markdown",
      "source": [
        "#Ahora veamos que sucede con la uniforme\n",
        "$X \\sim U[0,1]$ y $Y \\sim exp(2)$"
      ],
      "metadata": {
        "id": "esAR1zZV2p9J"
      }
    },
    {
      "cell_type": "code",
      "source": [
        "@jit(nopython = True)\n",
        "def h(a=0, b=1, lam_y=2, nr=10**5):\n",
        "  l, l1 = [], []\n",
        "  for i in range(nr):\n",
        "    x, y = (b-a)*random() - a, -np.log(random())/lam_y\n",
        "    if x + y > 2:\n",
        "      I = 1\n",
        "    else:\n",
        "      I = 0\n",
        "    l.append(I)\n",
        "    if y > 2:\n",
        "      EIY = 1\n",
        "    elif y < 1:\n",
        "      EIY = 0\n",
        "    else:\n",
        "      EIY = y-1\n",
        "    l1.append(EIY)\n",
        "  return l, l1"
      ],
      "metadata": {
        "id": "Q69HFsbz3wNU"
      },
      "execution_count": 23,
      "outputs": []
    },
    {
      "cell_type": "code",
      "source": [
        "l1, l2 = h(nr = 10**7)\n",
        "print(np.mean(l1), np.mean(l2))\n",
        "v1, v2 = np.var(l1, ddof=1), np.var(l2, ddof=1)\n",
        "print(v1, v2)\n",
        "print(100*(v1 - v2)/v1)"
      ],
      "metadata": {
        "colab": {
          "base_uri": "https://localhost:8080/"
        },
        "id": "a8NeJIrQ4VOd",
        "outputId": "681cbb1c-5aa4-4ec2-eaa1-7db8e02f18a7"
      },
      "execution_count": 25,
      "outputs": [
        {
          "output_type": "stream",
          "name": "stdout",
          "text": [
            "0.0585199 0.058534111894735785\n",
            "0.055095326813522534 0.03682187785010917\n",
            "33.16696718264742\n"
          ]
        }
      ]
    },
    {
      "cell_type": "code",
      "source": [
        "@jit(nopython = True)\n",
        "def i(a=0, b=1, lam_y=2, nr=10**5):\n",
        "  l, l1 = [], []\n",
        "  for i in range(nr):\n",
        "    x, y = (b-a)*random() - a, -np.log(random())/lam_y\n",
        "    if x + y > 2:\n",
        "      I = 1\n",
        "    else:\n",
        "      I = 0\n",
        "    l.append(I)\n",
        "    if x > 2:\n",
        "      EIX = 1\n",
        "    else:\n",
        "      EIX = np.exp(2*x-4)\n",
        "    l1.append(EIX)\n",
        "  return l, l1"
      ],
      "metadata": {
        "id": "yOWl1YLo5DrF"
      },
      "execution_count": 31,
      "outputs": []
    },
    {
      "cell_type": "code",
      "source": [
        "l1, l2 = i(nr = 10**7)\n",
        "print(np.mean(l1), np.mean(l2))\n",
        "v1, v2 = np.var(l1, ddof=1), np.var(l2, ddof=1)\n",
        "print(v1, v2)\n",
        "print(100*(v1 - v2)/v1)"
      ],
      "metadata": {
        "colab": {
          "base_uri": "https://localhost:8080/"
        },
        "id": "gqNsG1Cg5D0Z",
        "outputId": "a30925f3-2bd4-42ed-e19e-1501983c2aeb"
      },
      "execution_count": 32,
      "outputs": [
        {
          "output_type": "stream",
          "name": "stdout",
          "text": [
            "0.0584892 0.05849027631772859\n",
            "0.05506821899018184 0.0010709174957952144\n",
            "98.05528939298699\n"
          ]
        }
      ]
    }
  ]
}