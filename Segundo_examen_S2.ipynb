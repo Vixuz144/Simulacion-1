{
  "nbformat": 4,
  "nbformat_minor": 0,
  "metadata": {
    "colab": {
      "provenance": [],
      "authorship_tag": "ABX9TyORWGw2H/3LUUOpb0m6TPfd",
      "include_colab_link": true
    },
    "kernelspec": {
      "name": "python3",
      "display_name": "Python 3"
    },
    "language_info": {
      "name": "python"
    }
  },
  "cells": [
    {
      "cell_type": "markdown",
      "metadata": {
        "id": "view-in-github",
        "colab_type": "text"
      },
      "source": [
        "<a href=\"https://colab.research.google.com/github/Vixuz144/Simulacion-1/blob/main/Segundo_examen_S2.ipynb\" target=\"_parent\"><img src=\"https://colab.research.google.com/assets/colab-badge.svg\" alt=\"Open In Colab\"/></a>"
      ]
    },
    {
      "cell_type": "code",
      "execution_count": null,
      "metadata": {
        "id": "172DU05H37ep"
      },
      "outputs": [],
      "source": [
        "import numpy as np\n",
        "from random import random\n",
        "from numba import jit\n",
        "import matplotlib.pyplot as plt"
      ]
    },
    {
      "cell_type": "code",
      "source": [
        "@jit(nopython = True)\n",
        "def le_1s(T, ll, ls, rep):\n",
        "  lip = []\n",
        "  li = []\n",
        "  lm = []\n",
        "  ld = []\n",
        "  for k in range(rep):\n",
        "    t, i = 0, 0\n",
        "\n",
        "    tl = t - np.log(random())/ll\n",
        "    d = tl\n",
        "    ts = np.inf\n",
        "    t = min(tl,ts)\n",
        "    mx = 0\n",
        "    suma = 0\n",
        "\n",
        "    while t < T:\n",
        "      mx = max(mx, i)\n",
        "      if t == tl: #Llegada\n",
        "        i += 1\n",
        "        tl = t - np.log(random())/ll\n",
        "        if i == 1: #si es el primer cliente\n",
        "          ts = t - np.log(random())/ls\n",
        "      else: #Salida\n",
        "        i -= 1\n",
        "        if i == 0: #Se vacia\n",
        "          ts = np.inf\n",
        "          d += tl - t\n",
        "        else:\n",
        "          ts = t - np.log(random())/ls\n",
        "\n",
        "      ta = t\n",
        "      t = min(tl,ts)\n",
        "      suma += i * (t - ta)\n",
        "      # lista_tiempos.append(t)\n",
        "      # lista_individuos.append(i)\n",
        "    if T > t:\n",
        "      suma += i * (T - t)\n",
        "\n",
        "    lip.append(suma/T)\n",
        "    li.append(i)\n",
        "    lm.append(mx)\n",
        "    ld.append(d)\n",
        "  return lip, lm, li, ld"
      ],
      "metadata": {
        "id": "1L0uon1d4HB0"
      },
      "execution_count": null,
      "outputs": []
    },
    {
      "cell_type": "code",
      "source": [
        "ll = 2\n",
        "ls = 2.2\n",
        "T = 60\n",
        "nr = 10**6\n",
        "a, b, c, d = le_1s(T, ll, ls, nr)\n",
        "\n",
        "print(f'El valor esperado del valor medio del número de usuarios es: {round(np.mean(a), 5)}')\n",
        "print(f'El valor esperado del máximo número de personas dentro del sistema es: {round(np.mean(b), 5)}',)\n",
        "print(f'El valor esperado del número de usuarios dentro del sistema en t = 60 es: {round(np.mean(c), 5)}')\n",
        "print(f'El valor esperado del del tiempo promedio de permanencia de los usuario dentro del sistema es: {round(np.mean(d), 5)}')"
      ],
      "metadata": {
        "colab": {
          "base_uri": "https://localhost:8080/"
        },
        "id": "u_4xlelX4Iws",
        "outputId": "fe6ee8af-19f2-4253-84c1-e6f54cdb3eef"
      },
      "execution_count": null,
      "outputs": [
        {
          "output_type": "stream",
          "name": "stdout",
          "text": [
            "El valor esperado del valor medio del número de usuarios es: 5.46245\n",
            "El valor esperado del máximo número de personas dentro del sistema es: 14.71563\n",
            "El valor esperado del número de usuarios dentro del sistema en t = 60 es: 7.35739\n",
            "El valor esperado del del tiempo promedio de permanencia de los usuario dentro del sistema es: 8.85061\n"
          ]
        }
      ]
    },
    {
      "cell_type": "code",
      "source": [
        "# @jit(nopython = True)\n",
        "def le_ns(T,ll,ls, N = 10**5):\n",
        "  li = []\n",
        "  lm = []\n",
        "  lip = []\n",
        "  ld = []\n",
        "  for i in range(N):\n",
        "    n = len(list(ls))\n",
        "    t = 0\n",
        "    i = 0\n",
        "\n",
        "    suma = 0\n",
        "    mx = 0\n",
        "    tl = t - np.log(random())/ll\n",
        "    d = tl\n",
        "    ts = list(np.inf * np.ones(n))\n",
        "\n",
        "    t = min(tl, min(ts))\n",
        "    i = 0\n",
        "\n",
        "    cola = 0\n",
        "\n",
        "    while min(tl, min(ts)) < T:\n",
        "      if t == tl: #llegada\n",
        "        i += 1\n",
        "        tl = t - np.log(random())/ll\n",
        "\n",
        "        if np.any(np.isinf(ts)): #Hay servidores vacios\n",
        "          lk = []\n",
        "          for k in range(n):\n",
        "            if np.isinf(ts[k]):\n",
        "              lk.append(k)\n",
        "\n",
        "          m = len(lk)\n",
        "          l = np.linspace(0,1,m+1)\n",
        "          l[-1] += 0.1\n",
        "          r = random()\n",
        "\n",
        "          for j in range(m):\n",
        "            a, b = l[j], l[j+1]\n",
        "            if a <= r < b :\n",
        "              k = lk[j]\n",
        "              ts[k] = t - np.log(random())/ls[k]\n",
        "\n",
        "        else: #No hay servidores vacios\n",
        "          cola += 1\n",
        "\n",
        "      else: #salida\n",
        "        i -= 1\n",
        "        k = list(ts).index(min(ts))\n",
        "\n",
        "        if i < n:\n",
        "          ts[k] = np.inf\n",
        "          d += tl - t\n",
        "        elif cola >= 1 :\n",
        "          ts[k] = t - np.log(random())/ls[k]\n",
        "          cola -= 1\n",
        "\n",
        "      ta = t\n",
        "      t = min(tl, min(ts))\n",
        "      suma += i * (t - ta)\n",
        "      mx = max(mx, i)\n",
        "\n",
        "\n",
        "    li.append(i)\n",
        "    lm.append(mx)\n",
        "    lip.append(suma/T)\n",
        "    ld.append(d)\n",
        "  return lip, lm, li, ld"
      ],
      "metadata": {
        "id": "Z1YMiu0l_AXi"
      },
      "execution_count": null,
      "outputs": []
    },
    {
      "cell_type": "code",
      "source": [
        "ll = 2\n",
        "ls = [2.2]\n",
        "T = 60\n",
        "nr = 10**4\n",
        "a, b, c, d = le_ns(T, ll, ls, nr)\n",
        "\n",
        "print(f'El valor esperado del valor medio del número de usuarios es: {round(np.mean(a), 5)}')\n",
        "print(f'El valor esperado del máximo número de personas dentro del sistema es: {round(np.mean(b), 5)}',)\n",
        "print(f'El valor esperado del número de usuarios dentro del sistema en t = 60 es: {round(np.mean(c), 5)}')\n",
        "print(f'El valor esperado del del tiempo promedio de permanencia de los usuario dentro del sistema es: {round(np.mean(d), 5)}')"
      ],
      "metadata": {
        "colab": {
          "base_uri": "https://localhost:8080/"
        },
        "id": "g1Jus2OFADHR",
        "outputId": "8230af2e-87d9-4363-db8d-f353c9837a17"
      },
      "execution_count": null,
      "outputs": [
        {
          "output_type": "stream",
          "name": "stdout",
          "text": [
            "El valor esperado del valor medio del número de usuarios es: 5.39396\n",
            "El valor esperado del máximo número de personas dentro del sistema es: 14.6365\n",
            "El valor esperado del número de usuarios dentro del sistema en t = 60 es: 7.3272\n",
            "El valor esperado del del tiempo promedio de permanencia de los usuario dentro del sistema es: 8.94725\n"
          ]
        }
      ]
    }
  ]
}